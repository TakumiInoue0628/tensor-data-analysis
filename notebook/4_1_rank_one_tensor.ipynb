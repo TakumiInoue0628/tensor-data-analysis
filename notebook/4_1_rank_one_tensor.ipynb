{
 "cells": [
  {
   "cell_type": "markdown",
   "metadata": {},
   "source": [
    "## 4.1 Rank-1 tensor"
   ]
  },
  {
   "cell_type": "code",
   "execution_count": 3,
   "metadata": {},
   "outputs": [],
   "source": [
    "import numpy as np\n",
    "\n",
    "### Unfolding (matricization)\n",
    "def unfold(X, mode_number):\n",
    "    \"\"\"\n",
    "    Unfolding (matricization)\n",
    "\n",
    "    Parameters\n",
    "    ----------\n",
    "    X : ndarray\n",
    "        Input tensor.\n",
    "    mode_number : int\n",
    "        Mode number along which to unfold.\n",
    "        ``numpy's axis = (mode_number - 1)``\n",
    "\n",
    "    Returns\n",
    "    -------\n",
    "    Y : ndarray\n",
    "        Unfolded (Matrixed) tensor.\n",
    "    \"\"\"\n",
    "    axis = mode_number - 1     # numpy's axis = (mode_number - 1)\n",
    "    N = np.ndim(X)             # order of input tensor\n",
    "    L = np.size(X)             # total number of input tensor elements\n",
    "    col_len = np.size(X, axis) # column Length of output matrix\n",
    "    row_len = int(L / col_len) # row Length of output matrix\n",
    "    ### mode (axis) transpose\n",
    "    permute = [axis] + list(range(0, axis)) + list(range(axis+1, N))\n",
    "    X_transposed = np.transpose(X, permute)\n",
    "    ### unfolding \n",
    "    unfolding_shape = (col_len, row_len)\n",
    "    Y = np.reshape(X_transposed, unfolding_shape)\n",
    "    return Y\n",
    "\n",
    "### Folding (tensorization)\n",
    "def fold(Y, mode_number, shape):\n",
    "    \"\"\"\n",
    "    Unfolding (matricization)\n",
    "\n",
    "    Parameters\n",
    "    ----------\n",
    "    Y : ndarray\n",
    "        Input matrix.\n",
    "    mode_number : int\n",
    "        Mode number along which to fold.\n",
    "        ``numpy's axis = (mode_number - 1)``\n",
    "    shape : tuple or list of ints\n",
    "        shape of folding (tensorization).\n",
    "\n",
    "    Returns\n",
    "    -------\n",
    "    X : ndarray\n",
    "        Folded (tensorized) matrix.\n",
    "    \"\"\"\n",
    "    axis = mode_number - 1 # numpy's axis = (mode_number - 1)\n",
    "    N = len(shape)         # order of output tensor\n",
    "    ### folding\n",
    "    permute = [axis] + list(range(0, axis)) + list(range(axis+1, N))\n",
    "    folding_shape = []\n",
    "    for i in permute: folding_shape.append(shape[i])\n",
    "    Y_folded = np.reshape(Y, folding_shape)\n",
    "    ### mode (axis) transpose\n",
    "    if mode_number==1: permute_inv = list(range(0, N))\n",
    "    else: permute_inv = list(range(1, axis+1)) + [0] + list(range(axis+1, N))\n",
    "    X = np.transpose(Y_folded, permute_inv)\n",
    "    return X\n",
    "\n",
    "### n-th mode product of Tensor and Matrix\n",
    "def n_mode_prod_TandM(Tensor, Matrix, mode_number):\n",
    "    \"\"\"\n",
    "    n-th mode product of Tensor and Matrix\n",
    "\n",
    "    Parameters\n",
    "    ----------\n",
    "    Tensor : ndarray\n",
    "        Input tensor.\n",
    "    Matrix : ndarray\n",
    "        Input matrix.\n",
    "    mode_number : int\n",
    "        Mode number to calculate the product.\n",
    "        ``numpy's axis = (mode_number - 1)``\n",
    "\n",
    "    Returns\n",
    "    -------\n",
    "    Y : ndarray\n",
    "        Producted tensor.\n",
    "    \"\"\"\n",
    "    axis = mode_number - 1          # numpy's axis = (mode_number - 1)\n",
    "    tensor_shape = np.shape(Tensor) # tensor's shape\n",
    "    ### new tensor's shape\n",
    "    new_tensor_shape = np.copy(tensor_shape)\n",
    "    new_tensor_shape[axis] = np.size(Matrix, 0)\n",
    "    ### unfolding\n",
    "    Tensor_unfolded = unfold(Tensor, mode_number)\n",
    "    ### Matrix product of Tensor and Matrix\n",
    "    matrix_product_TandM = np.matmul(Matrix, Tensor_unfolded)\n",
    "    ### Folding\n",
    "    Y = fold(matrix_product_TandM, mode_number, new_tensor_shape)\n",
    "    return Y\n",
    "\n",
    "### all-mode product of Tensor and Matrix\n",
    "def all_mode_prod_TandM(Tensor, Matrix_list):\n",
    "    \"\"\"\n",
    "    All mode product of Tensor and Matrix\n",
    "\n",
    "    Parameters\n",
    "    ----------\n",
    "    Tensor : ndarray\n",
    "        Input tensor.\n",
    "    Matrix_list : list ``[ndarray, ndarray, ndarray,...]``\n",
    "        Input matrices list.\n",
    "\n",
    "    Returns\n",
    "    -------\n",
    "    Y : ndarray\n",
    "        Producted tensor.\n",
    "    \"\"\"\n",
    "    ### all-mode product of Tensor and Matrix\n",
    "    Y = np.copy(Tensor)\n",
    "    for axis, Matrix in enumerate(Matrix_list):\n",
    "        ### n-th mode product of Tensor and Matrix\n",
    "        mode_number = axis + 1\n",
    "        Y = n_mode_prod_TandM(Y, Matrix, mode_number)\n",
    "    return Y"
   ]
  },
  {
   "cell_type": "markdown",
   "metadata": {},
   "source": [
    "### 4.1.1 reconstruct of rank-1 tensor"
   ]
  },
  {
   "cell_type": "code",
   "execution_count": 6,
   "metadata": {},
   "outputs": [
    {
     "name": "stdout",
     "output_type": "stream",
     "text": [
      "Reconstruct of rank-1 tensor\n",
      "``A = a1 o a2 o a3``\n",
      "factor vector a1 shape (3,)\n",
      "factor vector a2 shape (4,)\n",
      "factor vector a3 shape (5,)\n",
      "       Tensor  A shape (3, 4, 5)\n"
     ]
    }
   ],
   "source": [
    "### Reconstruct of rank-1 tensor\n",
    "def recon_rank1_one_tensor(factor_vector_list):\n",
    "    \"\"\"\n",
    "    Reconstruct of rank-1 tensor (outer product of factor vectors)\n",
    "\n",
    "    Parameters\n",
    "    ----------\n",
    "    factor_vector_list : list ``[ndarray, ndarray, ndarray,...]``\n",
    "        Input factor vectors list.\n",
    "\n",
    "    Returns\n",
    "    -------\n",
    "    Tensor : ndarray\n",
    "        Rank-1 tensor.\n",
    "    \"\"\"\n",
    "\n",
    "    N = len(factor_vector_list) # total number of the factor vectors\n",
    "\n",
    "    ### matrixing of vectors\n",
    "    ### shape(n,) --> shape(n, 1)\n",
    "    factor_matrix_list = []\n",
    "    for vector in factor_vector_list: factor_matrix_list.append(np.reshape(vector, (np.size(vector, 0), 1)))\n",
    "\n",
    "    ### all-mode product of Tensor and Matrix\n",
    "    ### (outer product of factor vectors)\n",
    "    Tensor = all_mode_prod_TandM(np.ones([1]*N), factor_matrix_list)\n",
    "\n",
    "    return Tensor\n",
    "\n",
    "### Example\n",
    "a_list = []\n",
    "a_list.append(np.random.random((3)))\n",
    "a_list.append(np.random.random((4)))\n",
    "a_list.append(np.random.random((5)))\n",
    "A = recon_rank1_one_tensor(a_list)\n",
    "print(\"Reconstruct of rank-1 tensor\")\n",
    "print(\"``A = a1 o a2 o a3``\")\n",
    "for i, a in enumerate(a_list): print(\"factor vector a\"+str(i+1)+\" shape \"+str(a.shape))\n",
    "print(\"       Tensor  A shape \"+str(A.shape))"
   ]
  },
  {
   "cell_type": "markdown",
   "metadata": {},
   "source": [
    "### 4.1.2 Tensor-Vector all-mode product"
   ]
  },
  {
   "cell_type": "code",
   "execution_count": 7,
   "metadata": {},
   "outputs": [
    {
     "name": "stdout",
     "output_type": "stream",
     "text": [
      "All mode product of Tensor and Vector\n",
      "``Y = <X, a1 o a2 o a3>``\n",
      "       Tensor  X shape (3, 4, 5)\n",
      "factor vector a1 shape (3,)\n",
      "factor vector a2 shape (4,)\n",
      "factor vector a3 shape (5,)\n",
      "       Tensor  Y shape (1, 1, 1)\n"
     ]
    }
   ],
   "source": [
    "### all-mode product of Tensor and Vector\n",
    "def all_mode_prod_TandV(Tensor, Vector_list):\n",
    "    \"\"\"\n",
    "    All mode product of Tensor and Vector\n",
    "\n",
    "    Parameters\n",
    "    ----------\n",
    "    Tensor : ndarray\n",
    "        Input tensor.\n",
    "    Vector_list : list ``[ndarray, ndarray, ndarray,...]``\n",
    "        Input  vectors list.\n",
    "\n",
    "    Returns\n",
    "    -------\n",
    "    Y : ndarray\n",
    "        Producted tensor.\n",
    "    \"\"\"\n",
    "\n",
    "    ### matrixing of vectors\n",
    "    ### shape(n,) --> shape(n, 1)\n",
    "    Matrix_list = []\n",
    "    for vector in Vector_list: Matrix_list.append(np.reshape(vector, (np.size(vector, 0), 1)))\n",
    "\n",
    "    ### all-mode product of Tensor and Vector\n",
    "    Y = np.copy(Tensor)\n",
    "    for axis, Matrix in enumerate(Matrix_list):\n",
    "        ### n-th mode product of Tensor and Matrix\n",
    "        mode_number = axis + 1\n",
    "        Y = n_mode_prod_TandM(Y, Matrix.T, mode_number)\n",
    "\n",
    "    return Y\n",
    "\n",
    "### Example\n",
    "a_list = []\n",
    "a_list.append(np.random.random((3)))\n",
    "a_list.append(np.random.random((4)))\n",
    "a_list.append(np.random.random((5)))\n",
    "X = np.random.random((3, 4, 5))\n",
    "Y = all_mode_prod_TandV(X, a_list)\n",
    "print(\"All mode product of Tensor and Vector\")\n",
    "print(\"``Y = <X, a1 o a2 o a3>``\")\n",
    "print(\"       Tensor  X shape \"+str(X.shape))\n",
    "for i, a in enumerate(a_list): print(\"factor vector a\"+str(i+1)+\" shape \"+str(a.shape))\n",
    "print(\"       Tensor  Y shape \"+str(Y.shape))"
   ]
  },
  {
   "cell_type": "markdown",
   "metadata": {},
   "source": [
    "### 4.1.3 Tensor-Vector leave-one-out product"
   ]
  },
  {
   "cell_type": "code",
   "execution_count": 13,
   "metadata": {},
   "outputs": [
    {
     "name": "stdout",
     "output_type": "stream",
     "text": [
      "Leave-one-out product of Tensor and Vector\n",
      "(leave-one-out is 3th-mode)\n",
      "       Tensor  X shape (3, 4, 5)\n",
      "factor vector a1 shape (3,)\n",
      "factor vector a2 shape (4,)\n",
      "factor vector a3 shape (5,)\n",
      "       Tensor  Y shape (1, 1, 5)\n"
     ]
    }
   ],
   "source": [
    "### leave-one-out product of Tensor and Vector\n",
    "def leave_one_out_prod_TandV(Tensor, Vector_list, mode_number_leave_one_out):\n",
    "    \"\"\"\n",
    "    Leave-one-out product of Tensor and Vector\n",
    "\n",
    "    Parameters\n",
    "    ----------\n",
    "    Tensor : ndarray\n",
    "        Input tensor.\n",
    "    Vector_list : list ``[ndarray, ndarray, ndarray,...]``\n",
    "        Input  vectors list.\n",
    "    mode_number_leave_one_out : int\n",
    "        mode number of leave one out\n",
    "\n",
    "    Returns\n",
    "    -------\n",
    "    Y : ndarray\n",
    "        Producted tensor.\n",
    "    \"\"\"\n",
    "\n",
    "    ### matrixing of vectors\n",
    "    ### shape(n,) --> shape(n, 1)\n",
    "    Matrix_list = []\n",
    "    for vector in Vector_list: Matrix_list.append(np.reshape(vector, (np.size(vector, 0), 1)))\n",
    "\n",
    "    ### all-mode product of Tensor and Vector\n",
    "    Y = np.copy(Tensor)\n",
    "    for axis, Matrix in enumerate(Matrix_list):\n",
    "        mode_number = axis + 1\n",
    "        ### leave one out\n",
    "        if mode_number==mode_number_leave_one_out: continue\n",
    "        ### n-th mode product of Tensor and Matrix\n",
    "        Y = n_mode_prod_TandM(Y, Matrix.T, mode_number)\n",
    "\n",
    "    return Y\n",
    "\n",
    "### Example\n",
    "mode_number_leave_one_out = 3\n",
    "a_list = []\n",
    "a_list.append(np.random.random((3)))\n",
    "a_list.append(np.random.random((4)))\n",
    "a_list.append(np.random.random((5)))\n",
    "X = np.random.random((3, 4, 5))\n",
    "Y = leave_one_out_prod_TandV(X, a_list, mode_number_leave_one_out)\n",
    "print(\"Leave-one-out product of Tensor and Vector\")\n",
    "print(\"(leave-one-out is \"+str(mode_number_leave_one_out)+\"th-mode)\")\n",
    "print(\"       Tensor  X shape \"+str(X.shape))\n",
    "for i, a in enumerate(a_list): print(\"factor vector a\"+str(i+1)+\" shape \"+str(a.shape))\n",
    "print(\"       Tensor  Y shape \"+str(Y.shape))"
   ]
  },
  {
   "cell_type": "markdown",
   "metadata": {},
   "source": [
    "### 4.1.4 Rank-1 decomposition"
   ]
  },
  {
   "cell_type": "code",
   "execution_count": 107,
   "metadata": {},
   "outputs": [],
   "source": [
    "### rank-1 decomposition\n",
    "def rank1_decomposition_als(Tensor, max_iter=30, initialize_type='ones'):\n",
    "    \"\"\"\n",
    "    Rank-1 decomposition using ALS(altenating least squares)\n",
    "\n",
    "    Parameters\n",
    "    ----------\n",
    "    Tensor : ndarray\n",
    "        Input tensor.\n",
    "    max_iter : int\n",
    "        Maximum number of update iterations.\n",
    "    initialize_type : str\n",
    "        Type of initialize factor vectors.\n",
    "\n",
    "    Returns\n",
    "    -------\n",
    "    scale_cofficient : int\n",
    "        Scale cofficient of the factor vectors.\n",
    "    Vector_list : list ``[ndarray, ndarray, ndarray,...]``\n",
    "        Factor vectors.\n",
    "    Tensor_reconst : ndarray\n",
    "        Reconstructed Tensor.\n",
    "    cost_history : ndarray\n",
    "        Cost transition.\n",
    "    \"\"\"\n",
    "    \n",
    "    N = np.ndim(Tensor)             # order of input tensor\n",
    "    tensor_shape = np.shape(Tensor) # tensor's shape\n",
    "\n",
    "    ### initialize\n",
    "    Vector_list = []\n",
    "    if initialize_type=='ones': \n",
    "        for size in tensor_shape: Vector_list.append(np.ones((size)))\n",
    "    if initialize_type=='random': \n",
    "        for size in tensor_shape: Vector_list.append(np.random.random((size)))\n",
    "\n",
    "    cost = []\n",
    "    for _ in range(max_iter):\n",
    "\n",
    "        for axis, _ in enumerate(Vector_list):\n",
    "            ### leave-one-out product of Tensor and Vector\n",
    "            mode_number = axis + 1\n",
    "            Y = leave_one_out_prod_TandV(Tensor, Vector_list, mode_number)\n",
    "            ### vectorization\n",
    "            y = np.reshape(Y, np.size(Y))\n",
    "            ### normalize\n",
    "            Vector_list[axis] = y / np.linalg.norm(y)\n",
    "\n",
    "        ### scale coefficient\n",
    "        lam = all_mode_prod_TandV(Tensor, Vector_list)\n",
    "        ### tensor reconstruction\n",
    "        Tensor_reconst = lam * recon_rank1_one_tensor(Vector_list)\n",
    "        ### cost\n",
    "        cost.append((np.linalg.norm(Tensor) - np.linalg.norm(Tensor_reconst))**2)\n",
    "\n",
    "    scale_cofficient = np.reshape(lam, 1)\n",
    "    cost_history = np.array(cost)\n",
    "\n",
    "    return scale_cofficient, Vector_list, Tensor_reconst, cost_history\n",
    "\n",
    "### Example\n",
    "a_list = []\n",
    "a_list.append(np.random.random((30)))\n",
    "a_list.append(np.random.random((40)))\n",
    "A = recon_rank1_one_tensor(a_list)\n",
    "lam_hat, a_hat, A_hat, cost = rank1_decomposition_als(A)"
   ]
  },
  {
   "cell_type": "code",
   "execution_count": 110,
   "metadata": {},
   "outputs": [
    {
     "data": {
      "text/plain": [
       "<matplotlib.image.AxesImage at 0x1853fcd0f70>"
      ]
     },
     "execution_count": 110,
     "metadata": {},
     "output_type": "execute_result"
    },
    {
     "data": {
      "image/png": "[encoded data removed]",
      "text/plain": [
       "<Figure size 640x480 with 1 Axes>"
      ]
     },
     "metadata": {},
     "output_type": "display_data"
    }
   ],
   "source": [
    "import matplotlib.pylab as plt\n",
    "\n",
    "plt.imshow(a_list[0].reshape(1, -1))"
   ]
  },
  {
   "cell_type": "code",
   "execution_count": 111,
   "metadata": {},
   "outputs": [
    {
     "data": {
      "text/plain": [
       "<matplotlib.image.AxesImage at 0x1853fbb8fd0>"
      ]
     },
     "execution_count": 111,
     "metadata": {},
     "output_type": "execute_result"
    },
    {
     "data": {
      "image/png": "[encoded data removed]",
      "text/plain": [
       "<Figure size 640x480 with 1 Axes>"
      ]
     },
     "metadata": {},
     "output_type": "display_data"
    }
   ],
   "source": [
    "plt.imshow(a_hat[0].reshape(1, -1))"
   ]
  }
 ],
 "metadata": {
  "kernelspec": {
   "display_name": "venv",
   "language": "python",
   "name": "python3"
  },
  "language_info": {
   "codemirror_mode": {
    "name": "ipython",
    "version": 3
   },
   "file_extension": ".py",
   "mimetype": "text/x-python",
   "name": "python",
   "nbconvert_exporter": "python",
   "pygments_lexer": "ipython3",
   "version": "3.8.10"
  }
 },
 "nbformat": 4,
 "nbformat_minor": 2
}
