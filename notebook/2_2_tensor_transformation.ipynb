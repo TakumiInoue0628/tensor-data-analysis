{
 "cells": [
  {
   "cell_type": "markdown",
   "metadata": {},
   "source": [
    "## 2.2 Tensor transformation"
   ]
  },
  {
   "cell_type": "code",
   "execution_count": 1,
   "metadata": {},
   "outputs": [],
   "source": [
    "import numpy as np"
   ]
  },
  {
   "cell_type": "markdown",
   "metadata": {},
   "source": [
    "### 2.2.3 unfolding. matricization"
   ]
  },
  {
   "cell_type": "code",
   "execution_count": 20,
   "metadata": {},
   "outputs": [
    {
     "name": "stdout",
     "output_type": "stream",
     "text": [
      "mode number of unfolding is 2\n",
      "X shape (2, 3, 4)\n",
      "Y shape (3, 8)\n"
     ]
    }
   ],
   "source": [
    "### Unfolding (matricization)\n",
    "def unfold(X, mode_number):\n",
    "    \"\"\"\n",
    "    Unfolding (matricization)\n",
    "\n",
    "    Parameters\n",
    "    ----------\n",
    "    X : ndarray\n",
    "        Input tensor.\n",
    "    mode_number : int\n",
    "        Mode number along which to unfold.\n",
    "        ``numpy's axis = (mode_number - 1)``\n",
    "\n",
    "    Returns\n",
    "    -------\n",
    "    Y : ndarray\n",
    "        Unfolded (Matrixed) tensor.\n",
    "    \"\"\"\n",
    "\n",
    "    axis = mode_number - 1     # numpy's axis = (mode_number - 1)\n",
    "    N = np.ndim(X)             # order of input tensor\n",
    "    L = np.size(X)             # total number of input tensor elements\n",
    "    col_len = np.size(X, axis) # column Length of output matrix\n",
    "    row_len = int(L / col_len) # row Length of output matrix\n",
    "\n",
    "    ### mode (axis) transpose\n",
    "    permute = [axis] + list(range(0, axis)) + list(range(axis+1, N))\n",
    "    X_transposed = np.transpose(X, permute)\n",
    "\n",
    "    ### unfolding \n",
    "    unfolding_shape = (col_len, row_len)\n",
    "    Y = np.reshape(X_transposed, unfolding_shape)\n",
    "\n",
    "    return Y\n",
    "\n",
    "### Example\n",
    "shape = (2, 3, 4)\n",
    "mode_number = 2 \n",
    "X = np.random.random(shape)\n",
    "Y = unfold(X, mode_number)\n",
    "print(\"mode number of unfolding is \"+str(mode_number))\n",
    "print(\"X shape \"+str(X.shape))\n",
    "print(\"Y shape \"+str(Y.shape))"
   ]
  },
  {
   "cell_type": "markdown",
   "metadata": {},
   "source": [
    "### 2.2.4 folding. tensorization"
   ]
  },
  {
   "cell_type": "code",
   "execution_count": 21,
   "metadata": {},
   "outputs": [
    {
     "name": "stdout",
     "output_type": "stream",
     "text": [
      "mode number of folding is 2\n",
      "Y        shape (3, 8)\n",
      "X_folded shape (2, 3, 4)\n"
     ]
    }
   ],
   "source": [
    "### Folding (tensorization)\n",
    "def fold(Y, mode_number, shape):\n",
    "    \"\"\"\n",
    "    Unfolding (matricization)\n",
    "\n",
    "    Parameters\n",
    "    ----------\n",
    "    Y : ndarray\n",
    "        Input matrix.\n",
    "    mode_number : int\n",
    "        Mode number along which to fold.\n",
    "        ``numpy's axis = (mode_number - 1)``\n",
    "    shape : tuple or list of ints\n",
    "        shape of folding (tensorization).\n",
    "\n",
    "    Returns\n",
    "    -------\n",
    "    X : ndarray\n",
    "        Folded (tensorized) matrix.\n",
    "    \"\"\"\n",
    "\n",
    "    axis = mode_number - 1 # numpy's axis = (mode_number - 1)\n",
    "    N = len(shape)         # order of output tensor\n",
    "    \n",
    "    ### folding\n",
    "    permute = [axis] + list(range(0, axis)) + list(range(axis+1, N))\n",
    "    folding_shape = []\n",
    "    for i in permute: folding_shape.append(shape[i])\n",
    "    Y_folded = np.reshape(Y, folding_shape)\n",
    "\n",
    "    ### mode (axis) transpose\n",
    "    if mode_number==1: permute_inv = list(range(0, N))\n",
    "    else: permute_inv = list(range(1, axis+1)) + [0] + list(range(axis+1, N))\n",
    "    X = np.transpose(Y_folded, permute_inv)\n",
    "\n",
    "    return X\n",
    "\n",
    "### Example\n",
    "shape = (2, 3, 4)\n",
    "mode_number = 2 \n",
    "X_folded = fold(Y, mode_number, shape)\n",
    "print(\"mode number of folding is \"+str(mode_number))\n",
    "print(\"Y        shape \"+str(Y.shape))\n",
    "print(\"X_folded shape \"+str(X_folded.shape))"
   ]
  }
 ],
 "metadata": {
  "kernelspec": {
   "display_name": "venv",
   "language": "python",
   "name": "python3"
  },
  "language_info": {
   "codemirror_mode": {
    "name": "ipython",
    "version": 3
   },
   "file_extension": ".py",
   "mimetype": "text/x-python",
   "name": "python",
   "nbconvert_exporter": "python",
   "pygments_lexer": "ipython3",
   "version": "3.8.10"
  }
 },
 "nbformat": 4,
 "nbformat_minor": 2
}
