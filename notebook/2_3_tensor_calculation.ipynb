{
 "cells": [
  {
   "cell_type": "markdown",
   "metadata": {},
   "source": [
    "## 2.3 Tensor culculation"
   ]
  },
  {
   "cell_type": "code",
   "execution_count": 2,
   "metadata": {},
   "outputs": [],
   "source": [
    "import numpy as np\n",
    "\n",
    "### Unfolding (matricization)\n",
    "def unfold(X, mode_number):\n",
    "    \"\"\"\n",
    "    Unfolding (matricization)\n",
    "\n",
    "    Parameters\n",
    "    ----------\n",
    "    X : ndarray\n",
    "        Input tensor.\n",
    "    mode_number : int\n",
    "        Mode number along which to unfold.\n",
    "        ``numpy's axis = (mode_number - 1)``\n",
    "\n",
    "    Returns\n",
    "    -------\n",
    "    Y : ndarray\n",
    "        Unfolded (Matrixed) tensor.\n",
    "    \"\"\"\n",
    "    axis = mode_number - 1     # numpy's axis = (mode_number - 1)\n",
    "    N = np.ndim(X)             # order of input tensor\n",
    "    L = np.size(X)             # total number of input tensor elements\n",
    "    col_len = np.size(X, axis) # column Length of output matrix\n",
    "    row_len = int(L / col_len) # row Length of output matrix\n",
    "    ### mode (axis) transpose\n",
    "    permute = [axis] + list(range(0, axis)) + list(range(axis+1, N))\n",
    "    X_transposed = np.transpose(X, permute)\n",
    "    ### unfolding \n",
    "    unfolding_shape = (col_len, row_len)\n",
    "    Y = np.reshape(X_transposed, unfolding_shape)\n",
    "    return Y\n",
    "\n",
    "### Folding (tensorization)\n",
    "def fold(Y, mode_number, shape):\n",
    "    \"\"\"\n",
    "    Unfolding (matricization)\n",
    "\n",
    "    Parameters\n",
    "    ----------\n",
    "    Y : ndarray\n",
    "        Input matrix.\n",
    "    mode_number : int\n",
    "        Mode number along which to fold.\n",
    "        ``numpy's axis = (mode_number - 1)``\n",
    "    shape : tuple or list of ints\n",
    "        shape of folding (tensorization).\n",
    "\n",
    "    Returns\n",
    "    -------\n",
    "    X : ndarray\n",
    "        Folded (tensorized) matrix.\n",
    "    \"\"\"\n",
    "    axis = mode_number - 1 # numpy's axis = (mode_number - 1)\n",
    "    N = len(shape)         # order of output tensor\n",
    "    ### folding\n",
    "    permute = [axis] + list(range(0, axis)) + list(range(axis+1, N))\n",
    "    folding_shape = []\n",
    "    for i in permute: folding_shape.append(shape[i])\n",
    "    Y_folded = np.reshape(Y, folding_shape)\n",
    "    ### mode (axis) transpose\n",
    "    if mode_number==1: permute_inv = list(range(0, N))\n",
    "    else: permute_inv = list(range(1, axis+1)) + [0] + list(range(axis+1, N))\n",
    "    X = np.transpose(Y_folded, permute_inv)\n",
    "    return X"
   ]
  },
  {
   "cell_type": "markdown",
   "metadata": {},
   "source": [
    "### 2.3.9.1 $n$-th mode product. mode-$n$ product"
   ]
  },
  {
   "cell_type": "code",
   "execution_count": 50,
   "metadata": {},
   "outputs": [
    {
     "name": "stdout",
     "output_type": "stream",
     "text": [
      "3th-mode prodect\n",
      "``Y = X x A``\n",
      "Tensor X shape (2, 4, 3)\n",
      "Matrix A shape (2, 3)\n",
      "Tensor Y shape (2, 4, 2)\n"
     ]
    }
   ],
   "source": [
    "### n-th mode product of Tensor and Matrix\n",
    "def n_mode_prod_TandM(Tensor, Matrix, mode_number):\n",
    "    \"\"\"\n",
    "    n-th mode product of Tensor and Matrix\n",
    "\n",
    "    Parameters\n",
    "    ----------\n",
    "    Tensor : ndarray\n",
    "        Input tensor.\n",
    "    Matrix : ndarray\n",
    "        Input matrix.\n",
    "    mode_number : int\n",
    "        Mode number to calculate the product.\n",
    "        ``numpy's axis = (mode_number - 1)``\n",
    "\n",
    "    Returns\n",
    "    -------\n",
    "    Y : ndarray\n",
    "        Producted tensor.\n",
    "    \"\"\"\n",
    "\n",
    "    axis = mode_number - 1          # numpy's axis = (mode_number - 1)\n",
    "    tensor_shape = np.shape(Tensor) # tensor's shape\n",
    "\n",
    "    ### new tensor's shape\n",
    "    new_tensor_shape = np.copy(tensor_shape)\n",
    "    new_tensor_shape[axis] = np.size(Matrix, 0)\n",
    "\n",
    "    ### unfolding\n",
    "    Tensor_unfolded = unfold(Tensor, mode_number)\n",
    "\n",
    "    ### Matrix product of Tensor and Matrix\n",
    "    matrix_product_TandM = np.matmul(Matrix, Tensor_unfolded)\n",
    "\n",
    "    ### Folding\n",
    "    Y = fold(matrix_product_TandM, mode_number, new_tensor_shape)\n",
    "\n",
    "    return Y\n",
    "\n",
    "### Example\n",
    "mode_number = 3\n",
    "A = np.random.random((2, 3))\n",
    "X = np.random.random((2, 4, 3))\n",
    "Y = n_mode_prod_TandM(X, A, mode_number)\n",
    "print(str(mode_number)+\"th-mode prodect\")\n",
    "print(\"``Y = X x A``\")\n",
    "print(\"Tensor X shape \"+str(X.shape))\n",
    "print(\"Matrix A shape \"+str(A.shape))\n",
    "print(\"Tensor Y shape \"+str(Y.shape))"
   ]
  },
  {
   "cell_type": "markdown",
   "metadata": {},
   "source": [
    "### 2.3.9.2 all-mode product"
   ]
  },
  {
   "cell_type": "code",
   "execution_count": 61,
   "metadata": {},
   "outputs": [
    {
     "name": "stdout",
     "output_type": "stream",
     "text": [
      "all-mode prodect\n",
      "``Y = G x [A]``\n",
      "Tensor  G   shape (3, 4, 5)\n",
      "Matrix X[1] shape (10, 3)\n",
      "Matrix X[2] shape (20, 4)\n",
      "Matrix X[3] shape (30, 5)\n",
      "Tensor  Y   shape (10, 20, 30)\n"
     ]
    }
   ],
   "source": [
    "### all-mode product of Tensor and Matrix\n",
    "def all_mode_prod_TandM(Tensor, Matrix_list):\n",
    "    \"\"\"\n",
    "    All mode product of Tensor and Matrix\n",
    "\n",
    "    Parameters\n",
    "    ----------\n",
    "    Tensor : ndarray\n",
    "        Input tensor.\n",
    "    Matrix_list : list ``[ndarray, ndarray, ndarray,...]``\n",
    "        Input matrices list.\n",
    "\n",
    "    Returns\n",
    "    -------\n",
    "    Y : ndarray\n",
    "        Producted tensor.\n",
    "    \"\"\"\n",
    "\n",
    "    ### all-mode product of Tensor and Matrix\n",
    "    Y = np.copy(Tensor)\n",
    "    for axis, Matrix in enumerate(Matrix_list):\n",
    "        ### n-th mode product of Tensor and Matrix\n",
    "        mode_number = axis + 1\n",
    "        Y = n_mode_prod_TandM(Y, Matrix, mode_number)\n",
    "\n",
    "    return Y\n",
    "\n",
    "### Example\n",
    "A_list = []\n",
    "A_list.append(np.random.random((10, 3)))\n",
    "A_list.append(np.random.random((20, 4)))\n",
    "A_list.append(np.random.random((30, 5)))\n",
    "G = np.random.random((3, 4, 5))\n",
    "Y = all_mode_prod_TandM(G, A_list)\n",
    "print(\"all-mode prodect\")\n",
    "print(\"``Y = G x [A]``\")\n",
    "print(\"Tensor  G   shape \"+str(G.shape))\n",
    "for i, A in enumerate(A_list): print(\"Matrix X[\"+str(i+1)+\"] shape \"+str(A.shape))\n",
    "print(\"Tensor  Y   shape \"+str(Y.shape))"
   ]
  }
 ],
 "metadata": {
  "kernelspec": {
   "display_name": "venv",
   "language": "python",
   "name": "python3"
  },
  "language_info": {
   "codemirror_mode": {
    "name": "ipython",
    "version": 3
   },
   "file_extension": ".py",
   "mimetype": "text/x-python",
   "name": "python",
   "nbconvert_exporter": "python",
   "pygments_lexer": "ipython3",
   "version": "3.8.10"
  }
 },
 "nbformat": 4,
 "nbformat_minor": 2
}
